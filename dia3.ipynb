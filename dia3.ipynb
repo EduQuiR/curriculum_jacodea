{
 "cells": [
  {
   "cell_type": "markdown",
   "metadata": {},
   "source": [
    "# Repaso (15 minutos)\n",
    "Breve repaso del día anterior"
   ]
  },
  {
   "cell_type": "markdown",
   "metadata": {},
   "source": [
    "# Introducción a POO (programación orientada a objetos) (120 minutos)\n",
    "\n",
    "Python también nos permite representar cosas del mundo real, más fielmente por medio de estructuras de datos llamadas objetos. Por eso podemos ver a los objetos como agrupaciones de datos y los métodos que operan en dichos datos.\n",
    "\n",
    "Tanto sus atributos (características y propiedades) como sus métodos (funciones que\n",
    "nos permiten interactuar con el objeto) se definen en una clase.\n",
    "Esta clase es como una plantilla para los objetos que queremos crear, como un molde.\n",
    "\n",
    "Luego ese molde se utiliza para crear la cantidad que necesitemos de los objetos de esa\n",
    "clase.\n",
    "\n",
    "Por ejemplo, podemos representar a una persona con propiedades como nombre, edad, género, etc. y los comportamientos de dicha persona como caminar, cantar, comer, etc.\n",
    "\n",
    "De la misma manera podemos representar unos audífonos con propiedades como su marca, tamaño, color, etc. y sus comportamientos como reproducir música, pausar y avanzar a la siguiente canción."
   ]
  },
  {
   "cell_type": "markdown",
   "metadata": {},
   "source": [
    "# Definiendo Atributos de clase y Atributos de instancia (15 min). \n",
    "\n",
    "Es importante distinguir que existen dos tipos de atributos:\n",
    "\n",
    "- 👉 Atributos de clase: Son atributos cuyos valores definen a la clase, por lo tanto serán comunes para todos los objetos.\n",
    "- 👉 Atributos de instancia: Son atributos cuyos valores son específicos de los objetos creados (la instancia). En nuestro caso, de ambas mascotas tiene el atributo `nombre`, pero cada una tiene un valor diferente, que se define al crear el objeto. (Mostrar los de instancia)"
   ]
  },
  {
   "cell_type": "code",
   "execution_count": 6,
   "metadata": {},
   "outputs": [
    {
     "name": "stdout",
     "output_type": "stream",
     "text": [
      "michi\n",
      "2\n",
      "siames\n",
      "amarillo\n",
      "labrador\n"
     ]
    }
   ],
   "source": [
    "class Mascota: # crear mi clase Mascota por medio de la palabra reservada class\n",
    "    ojos = 2 #atributo de clase\n",
    "    boca = 1 #atributo de clase\n",
    "    #metodo constructor __init__ y un parametro especial self\n",
    "\n",
    "    def __init__(self, nombre, raza, color):\n",
    "        self.nombre = nombre\n",
    "        self.raza = raza\n",
    "        self.color = color\n",
    "\n",
    "\n",
    "#crear mi objeto\n",
    "mi_gato = Mascota(\"michi\",\"siames\",\"marron\") #creo mi objeto y le paso los atributos especificos del obj. instancia\n",
    "mi_perro = Mascota(\"rex\", \"labrador\", \"amarillo\") #creo mi objeto y le paso los atributos especificos del obj. instancia\n",
    "print(mi_gato.nombre)\n",
    "print(mi_gato.ojos)\n",
    "print(mi_gato.raza)\n",
    "print(mi_perro.color)\n",
    "print(mi_perro.raza)\n"
   ]
  },
  {
   "cell_type": "code",
   "execution_count": 4,
   "metadata": {},
   "outputs": [
    {
     "name": "stdout",
     "output_type": "stream",
     "text": [
      "Oliver 2\n",
      "Animalia\n",
      "aves\n"
     ]
    }
   ],
   "source": [
    "class Mascota:\n",
    "    ojos = 2\n",
    "\n",
    "    def __init__(self, nombre):\n",
    "        self.nombre = nombre\n",
    "\n",
    "mi_mascota = Mascota(\"Oliver\")\n",
    "# mi_otra_mascota = Mascota(\"Oliver\")\n",
    "print(mi_mascota.nombre, mi_mascota.ojos)\n",
    "# print(mi_otra_mascota.nombre, mi_otra_mascota.ojos)\n",
    "\n",
    "#otro ejemplo de clase\n",
    "class Pinguino:\n",
    "    familia = \"Animalia\"\n",
    "    especie = \"aves\"\n",
    " \n",
    "    def __init__(self, nombre):\n",
    "       self.nombre = nombre\n",
    "\n",
    "mi_pinguino = Pinguino(\"Pengu\")\n",
    "print(mi_pinguino.familia)\n",
    "print(mi_pinguino.especie)"
   ]
  },
  {
   "cell_type": "markdown",
   "metadata": {},
   "source": [
    "# Challenge (15 minutos)\n",
    "\n",
    "Crear dos class de animales que tengan atributos de clase y de instancia.\n",
    "- Atributos de clase: `especie`.\n",
    "- Atributos de instancia: `nombre` & `color`.\n",
    "Luego, crear nuevos objetos a partir de las nuevas class. Imprimir el nombre y el color de los animales en una frase que diga: \"Me llamo `{nombre}` y soy un ave de color `{color}`\"."
   ]
  },
  {
   "cell_type": "markdown",
   "metadata": {},
   "source": [
    "# Definiendo métodos\n",
    "\n",
    "En realidad, cuando usamos __init__ anteriormente ya estábamos definiendo un método, solo que uno especial. Uno que se ejecuta al momento de crear un objeto.\n",
    "A continuación, vamos a ver cómo definir métodos que le den alguna funcionalidad interesante a nuestra clase.\n",
    "Los Métodos le dan funcionalidad al objeto. Por ello decimos que un método es una función de un objeto."
   ]
  },
  {
   "cell_type": "code",
   "execution_count": 7,
   "metadata": {},
   "outputs": [
    {
     "name": "stdout",
     "output_type": "stream",
     "text": [
      "Estoy caminando\n",
      "2\n",
      "Comi 2 kg de purina\n"
     ]
    }
   ],
   "source": [
    "# Primer ejemplo\n",
    "class Mascota:\n",
    "    ojos = 2 #atributo de clase\n",
    "\n",
    "    def __init__(self, nombre): #init inicializa la clase atributo de instancia\n",
    "        self.nombre = nombre\n",
    "    \n",
    "        #funcion sin definir parametros y argumentos\n",
    "    def caminar(self): #funcion a la que no le pasamos argumentos --> metodo = funcionalidades\n",
    "        print(\"Estoy caminando\") # imprimir Estoy caminando\n",
    "\n",
    "    #funcion definiendo con parametros y argumentos\n",
    "    def comer(self, kg_de_comida, comida): # --> metodo = funcionalidades\n",
    "        print(\"Comi\", kg_de_comida, \"kg de \" + comida)\n",
    "        \n",
    "mi_mascota_gato = Mascota(\"Paco\") # creando el objeto, mi_mascota_gato\n",
    "mi_mascota_gato.caminar() #accedemos al metodo caminar\n",
    "print(mi_mascota_gato.ojos)\n",
    "mi_mascota_gato.comer(2, \"purina\") # le pase los argumentos a la funcion comer"
   ]
  },
  {
   "cell_type": "markdown",
   "metadata": {},
   "source": [
    "# Challenge (15 minutos)\n",
    "\n",
    "Crear dos métodos por animal, que sea hablar y moverse.\n",
    "En el método hablar, imprimir: \"Cuando hablo, digo X\".\n",
    "En el método mover, imprimir: \"Cuando me muevo, hago X\".`\n",
    "X debe ser algo específico de ese animal"
   ]
  },
  {
   "cell_type": "code",
   "execution_count": 10,
   "metadata": {},
   "outputs": [
    {
     "name": "stdout",
     "output_type": "stream",
     "text": [
      "Me llamo Pancho\n",
      "Cuando hablo, digo prrrr\n",
      "Cuando me muevo, hago Saltitos\n",
      "Me llamo Marta y soy una Gallina\n",
      "Cuando hablo, digo coo coo coo\n",
      "Cuando me muevo, hago movimientos con la cabeza\n"
     ]
    }
   ],
   "source": [
    "class Ave:\n",
    "    especie = \"Loro\"\n",
    "    especie_2 = \"Gallina\"\n",
    "\n",
    "    def __init__(self,nombre):\n",
    "        self.nombre = nombre\n",
    "    \n",
    "    def hablar(self,saludo):\n",
    "        print(f\"Cuando hablo, digo {saludo}\")\n",
    "    \n",
    "    def mover(self,movimiento):\n",
    "        print(f\"Cuando me muevo, hago {movimiento}\")\n",
    "\n",
    "loro = Ave(\"Pancho\")\n",
    "gallina = Ave(\"Marta\")\n",
    "\n",
    "print(f\"Me llamo {loro.nombre}\")\n",
    "loro.hablar(\"prrrr\")\n",
    "loro.mover(\"Saltitos\")\n",
    "\n",
    "print(f\"Me llamo {gallina.nombre} y soy una {gallina.especie_2}\")\n",
    "gallina.hablar(\"coo coo coo\")\n",
    "gallina.mover(\"movimientos con la cabeza\")"
   ]
  },
  {
   "cell_type": "markdown",
   "metadata": {},
   "source": [
    "# Fin del Día (10 minutos)\n",
    "Pequeño repaso de todo lo visto en el día, posteriormente pasar a escuchar el feedback\n",
    "de los participantes."
   ]
  }
 ],
 "metadata": {
  "kernelspec": {
   "display_name": "Python 3",
   "language": "python",
   "name": "python3"
  },
  "language_info": {
   "codemirror_mode": {
    "name": "ipython",
    "version": 3
   },
   "file_extension": ".py",
   "mimetype": "text/x-python",
   "name": "python",
   "nbconvert_exporter": "python",
   "pygments_lexer": "ipython3",
   "version": "3.10.12"
  },
  "orig_nbformat": 4
 },
 "nbformat": 4,
 "nbformat_minor": 2
}
