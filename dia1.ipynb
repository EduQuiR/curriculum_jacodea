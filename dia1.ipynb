{
 "cells": [
  {
   "cell_type": "markdown",
   "metadata": {},
   "source": [
    "# Explicación de Conceptos Básicos de Programación (15min)"
   ]
  },
  {
   "cell_type": "markdown",
   "metadata": {},
   "source": [
    "## ¿Qué son las computadoras?\n",
    "\n",
    "Una computadora es una máquina digital programable, de funcionamiento electrónico, capaz de procesar grandes cantidades de datos a grandes velocidades.\n",
    "Donde la parte física y tangible del sistema, o sea, sus componentes eléctricos y electrónicos se denomina hardware, y la parte intangible, digital y abstracta, lógicamente programable se denomina software.\n",
    "\n",
    "## ¿Qué es un lenguaje de programación?\n",
    "\n",
    "Se podría decir que un lenguaje de programación que es como una forma de comunicarnos con la computadora y decirle que queremos hacer, siendo la sintaxis como un conjunto de reglas que nos permite comunicarnos con la computadora y que varía de acuerdo a cada lenguaje.\n",
    "\n",
    "## ¿Qué es Python?\n",
    "\n",
    "Es un lenguaje de programación de sintaxis sencilla, amigable y trata de parecerse en lo mayor posible al lenguaje humano.\n",
    "Como está escrito en inglés, es más parecido a ese idioma, por lo que en sus características radican las ventajas en comparación a otros lenguajes de programación.\n",
    "\n",
    "## ¿Qué diferencia a Python de otros lenguajes de programación?\n",
    "\n",
    "- 👉 Tiene una de las sintaxis más simples.\n",
    "- 👉 Es un lenguaje interpretado, no compilado. (Ejemplo de la receta [Compilado o Interpretado])\n",
    "- 👉 Ausencia de paréntesis.\n",
    "- 👉 No utiliza punto y coma al final de cada instrucción.\n",
    "- 👉 No es necesario declarar variables.\n",
    "- 👉 Lenguaje de tipado dinámico y fuerte."
   ]
  },
  {
   "cell_type": "markdown",
   "metadata": {},
   "source": [
    "# Primer encuentro con Python: Hello World! - 15m "
   ]
  },
  {
   "cell_type": "code",
   "execution_count": 1,
   "metadata": {},
   "outputs": [
    {
     "name": "stdout",
     "output_type": "stream",
     "text": [
      "Hola mundo!\n"
     ]
    }
   ],
   "source": [
    "\n",
    "print(\"Hola mundo!\") #esta es nuestra primera linea de código en Python\n",
    "\n",
    "#🙌 Explicar uso de las comillas que pueden ser comillas simples o dobles y que estos son datos tipo texto\n",
    "#🙌 Explicar que el print no es para ejecutar algo y no es necesario en todos los casos\n",
    "#Aplauso de ahora ya son programadores."
   ]
  },
  {
   "cell_type": "markdown",
   "metadata": {},
   "source": [
    "# Tipos de datos y variables. (100 minutos)\n",
    "\n",
    "## Definición de variables (15 minutos) – Dar 5 minutos para que prueben las variables\n",
    "\n",
    "Las variables son espacios en memoria de la computadora en los cuales podemos\n",
    "guardar datos durante la ejecución de nuestro programa.\n",
    "A estos espacios les podemos poner nombres por medio de los cuales podemos acceder\n",
    "más tarde a los valores que contienen.\n",
    "\n",
    "✍🏻 Hablar sobre:\n",
    "\n",
    "SINTAXIS: La SINTAXIS en programación es el conjunto de reglas que definen la\n",
    "manera de escribir instrucciones de código. Cada lenguaje de programación tiene\n",
    "su propia sintaxis."
   ]
  },
  {
   "cell_type": "code",
   "execution_count": 7,
   "metadata": {},
   "outputs": [
    {
     "name": "stdout",
     "output_type": "stream",
     "text": [
      "Hola mundo\n"
     ]
    }
   ],
   "source": [
    "#Hacer un ejemplo de definición de variables y que se puede hacer con ellas\n",
    "\n",
    "# Ejemplo: Creamos una variable saludo y le asignamos el valor Hola Mundo\n",
    "\n",
    "saludo = 'Hola mundo'\n",
    "\n",
    "#Ahora saludo toma el valor de Hola Mundo, y podemos imprimirlo en pantalla\n",
    "\n",
    "print(saludo) #Que les parece que va a imprimir en pantalla pues el valor\n",
    "\n",
    "#Entre las buenas practicas para nombrar variables en Python tenemos:\n",
    "#Usar minúsculas\n",
    "#Separar las palabras por guiones bajos\n",
    "#No usar palabras reservadas como nombres de variables.\n",
    "#A la forma de nombrar variables en Python se le llama snake_case"
   ]
  },
  {
   "cell_type": "markdown",
   "metadata": {},
   "source": [
    "# Orden de ejecución (10 minutos)\n",
    "\n",
    "## Python se ejecuta línea por línea.\n",
    "- Todos los comandos se ejecutan en el orden en que se escriben.\n",
    "- Al usar el operador de asignación (=) se ejecuta el comando de la derecha y se guarda el resultado en la variable de la izquierda."
   ]
  },
  {
   "cell_type": "code",
   "execution_count": 8,
   "metadata": {},
   "outputs": [
    {
     "name": "stdout",
     "output_type": "stream",
     "text": [
      "naranjas\n",
      "4\n",
      "banana\n"
     ]
    }
   ],
   "source": [
    "#Ahora hablemos de la ejecución de python, esta se ejecuta linea por linea de arriba para abajo. Pueden ver si escribimos fruta y le asignamos el valor naranjas\n",
    "\n",
    "fruta = \"naranjas\"\n",
    "print(fruta)\n",
    "\n",
    "cantidad_de_frutas = 4\n",
    "print(cantidad_de_frutas)\n",
    "\n",
    "fruta = \"banana\"\n",
    "print(fruta)\n",
    "\n",
    "#🙌 Explicar que el # es para comentarios\n",
    "#🙌 Explicar que el ''' es para comentarios multilinea '''"
   ]
  },
  {
   "cell_type": "markdown",
   "metadata": {},
   "source": [
    "# Tipos de datos (15 minutos) \n",
    "\n",
    "Así como los textos, también podemos almacenar otros tipos de datos.\n",
    "Textos, números, decimales, booleanos/lógicos."
   ]
  },
  {
   "cell_type": "code",
   "execution_count": 10,
   "metadata": {},
   "outputs": [],
   "source": [
    "texto = \"Marcos\" #-> String -> str\n",
    "numero_entero  = 8 #-> integer ->int\n",
    "numero_flotante = 7.1 #-> float-> float\n",
    "booleano = False #-> boolean -> bool\n",
    "booleano  = True #-> boolean -> bool"
   ]
  },
  {
   "cell_type": "code",
   "execution_count": null,
   "metadata": {},
   "outputs": [],
   "source": [
    "''' Seguimos con el ejercicio de que estamos en un tienda, y vamos a tocar como tema los tipos de datos'''\n",
    "\n",
    "#Supongamos que tenemos una variable llamada producto y le asignamos el valor 'manzanas'\n",
    "producto = 'manzanas' #🙌 Explicar que producto es una variable y que es un dato tipo texto\n",
    "\n",
    "print(producto)\n",
    "\n",
    "#Ahora queremos preguntarle al duenho de la tienda la cantidad de productos que tenemos en stock y le asignamos el valor 30\n",
    "cantidad_de_frutas = 30 # Número entero -> integer -> int\n",
    "print(cantidad_de_frutas)\n",
    "\n",
    "#supongamos que tenemos una variable que se llama precio y le asignamos el valor 1000\n",
    "precio = 1000 # Número entero -> integer -> int\n",
    "print(precio)\n",
    "\n",
    "#supongamos que tenemos una variable que se llama peso y le asignamos el valor 3.99 este es el peso de nuestras manzanas\n",
    "peso = 3.99 # Número decimal -> floating numbers -> float\n",
    "print(peso)\n",
    "\n",
    "producto = \"gaseosa\" # Texto -> strings -> str se reasigna el valor a la variable producto, si no queremos reasignar el valor a la variable producto, creamos producto2 = \"gaseosa\"\n",
    "\n",
    "#ahora vamos a ver si esta abierta la tienda, los boleanos son muy similares a un Si y un No\n",
    "esta_abierta_sabado = True # Boolean -> bool\n",
    "\n",
    "esta_abierta_feriado = False # Boolean -> bool\n",
    "\n",
    "#Otro ejemplo posible de variable es el siguiente\n",
    "es_viernes = False # Boolean -> bool\n",
    "es_miercoles = True # Boolean -> bool\n",
    "\n",
    "print(cantidad_de_frutas)\n",
    "print(precio)\n",
    "print(producto)\n",
    "print(esta_abierta_sabado)\n",
    "print(esta_abierta_feriado)\n",
    "\n",
    "#Identificar el tipo de dato de una variable\n",
    "print(type(cantidad_de_frutas)) #la variable tomo el valor de 30 y es un dato tipo entero\n",
    "\n",
    "print(type(30))\n",
    "\n",
    "#🙌 Explicar que type es una funcion que nos dice el tipo de dato de una variable, se puede aplicar a la variable directo o a un valor directo"
   ]
  },
  {
   "cell_type": "markdown",
   "metadata": {},
   "source": [
    "# Operaciones aritméticas / con variables (15 minutos)\n",
    "También podemos realizar operaciones matemáticas, como en las calculadoras."
   ]
  },
  {
   "cell_type": "code",
   "execution_count": 12,
   "metadata": {},
   "outputs": [
    {
     "name": "stdout",
     "output_type": "stream",
     "text": [
      "24\n",
      "0\n",
      "36\n",
      "5.5\n",
      "14\n",
      "9.0\n",
      "16.0\n"
     ]
    }
   ],
   "source": [
    "#Python puede realizar operaciones matemáticas como una calculadora, para visualizar vamos a usar la funcion print()\n",
    "#Utilizamos el print para poder ver el resultado de la operación\n",
    "\n",
    "# Suma\n",
    "print(7 + 8 + 9)\n",
    "\n",
    "# Resta\n",
    "print(10 - 10)\n",
    "\n",
    "# Multiplicación\n",
    "print(12 * 3)\n",
    "\n",
    "# División\n",
    "print(11 / 2)\n",
    "\n",
    "# Python obedece a la regla matemática de la precedencia de operadores que dice:\n",
    "\n",
    "# 1. Los paréntesis tienen la mayor precedencia y pueden usarse para forzar un orden.\n",
    "# 2. La siguiente precedencia la tienen las multiplicaciones y divisiones.\n",
    "# 3. La siguiente precedencia la tienen las sumas y restas.\n",
    "# 4. Los operadores con la misma precedencia se evalúan de izquierda a derecha (de arriba hacia abajo para operadores en una misma línea).\n",
    "\n",
    "# Ejemplo de precedencia de operadores\n",
    "print(2 + 3 * 4) # 14\n",
    "\n",
    "# Obs.: Podemos usar paréntesis para modificar la precedencia de operadores, asi mismo como en las matematicas.\n",
    "\n",
    "print((2 * 2) + (12 / 2) - 1) #observacion al usar parentesis siempre cerrarlos y no confundir con los del print. Orden normal de operacion en la prelacion de operadores\n",
    "\n",
    "print((2 * 2) + 12 / (2 - 1)) #aqui se ejecuta primero la resta del 2-1 y luego la division del 12/1\n",
    "\n",
    "#🙌 Explicar que la division siempre va a dar un numero decimal, para que no de un numero decimal podemos usar el operador // que es la division entera * esto no mencionar solo para saber que existe"
   ]
  },
  {
   "cell_type": "code",
   "execution_count": 13,
   "metadata": {},
   "outputs": [
    {
     "name": "stdout",
     "output_type": "stream",
     "text": [
      "15000\n",
      "10000\n",
      "4500\n",
      "7250\n"
     ]
    }
   ],
   "source": [
    "#Ahora podemos hacer esto mismo pero con los datos almacenados en variables, considerando el caso de la tienda de frutas\n",
    "# Suma de frutas en el super\n",
    "manzanas = 7000\n",
    "peras = 3000\n",
    "naranjas = 5000\n",
    "\n",
    "precio_total_compra = manzanas + peras + naranjas # En gs (guaranies) -> suma\n",
    "\n",
    "print(precio_total_compra) # imprimimos/mostramos el resultado en pantalla, el resultado se almacena en la variable precio_total\n",
    "\n",
    "# Ahora supongamos que el duenho de la tienda nos aplica un descuento, esta operacion seria la resta aplicando una diferencia respecto al precio total de las compras realizado en compra\n",
    "total_con_descuento = precio_total_compra - 5000 # un descuento -> resta\n",
    "\n",
    "print(total_con_descuento) # imprimimos/mostramos el resultado en la pantalla\n",
    "\n",
    "# Multiplicación\n",
    "precio_banana_unitario = 1500\n",
    "cantidad_de_bananas = 3\n",
    "\n",
    "total_costo_bananas = precio_banana_unitario * cantidad_de_bananas # En gs(guaraníes) -> multiplicación\n",
    "print(total_costo_bananas) # imprimimos/mostramos el resultado en la pantalla\n",
    "\n",
    "#Ahora al precio total de compras le agregamos el costo total de las bananas\n",
    "actualizacion_costo_total = total_con_descuento + total_costo_bananas # En gs (guaraníes) -> suma\n",
    "\n",
    "# Ahora queremos dividir el costo entre las personsa que van a consumir la ensalada de frutas, entonces tenemos que aplicar la División\n",
    "cantidad_de_personas = 2\n",
    "vaquita_gastos = actualizacion_costo_total // cantidad_de_personas # En gs-> división\n",
    "print(vaquita_gastos) # imprimimos/mostramos el resultado en la pantalla"
   ]
  },
  {
   "cell_type": "markdown",
   "metadata": {},
   "source": [
    "# Challenge (15 minutos)\n",
    "\n",
    "Suma: asignar dos números en dos variables diferentes `cantidad_de_manzanas` y `cantidad_de_naranjas`. Luego sumar ambas variables en `cantidad_de_frutas`.\n",
    "\n",
    "Imprimir la última variable.\n",
    "\n",
    "Resta: asignar un valor numérico a la variable `frutas_vendidas`. Luego, asignar la resta entre `cantidad_de_frutas` y `frutas_vendidas` a la variable `frutas_restantes`. Imprimir la última variable."
   ]
  },
  {
   "cell_type": "code",
   "execution_count": 14,
   "metadata": {},
   "outputs": [
    {
     "name": "stdout",
     "output_type": "stream",
     "text": [
      "12\n"
     ]
    }
   ],
   "source": [
    "cantidad_de_manzanas = 5 #Creamos la primera variable y asignamos un numero(valor)\n",
    "cantidad_de_naranjas = 7 #Creamos la segunda variable y asignamos un numero(valor)\n",
    "\n",
    "cantidad_de_frutas = cantidad_de_manzanas + cantidad_de_naranjas #Creamos la variable para guardar (almacenar) el total de la suma\n",
    "print(cantidad_de_frutas) #Imprimimos el valor (el total de la suma)"
   ]
  },
  {
   "cell_type": "markdown",
   "metadata": {},
   "source": [
    "# Concatenación (10 minutos)"
   ]
  },
  {
   "cell_type": "code",
   "execution_count": 30,
   "metadata": {},
   "outputs": [
    {
     "name": "stdout",
     "output_type": "stream",
     "text": [
      "Pedro\n",
      "Quintana\n",
      "PedroQuintana\n",
      "Pedro Quintana\n",
      "hola, mi nombre es Pedro Quintana\n",
      "hola, mi nombre es Pedro Quintana\n",
      "Pedro\n",
      "Gomez\n",
      "Hola mi nombre es Pedro y mi apellido es Gomez y tengo 20 anhos\n",
      "Hola me llamo Pedro y mi apellido es Gomez\n",
      "Hola me llamo Pedro y mi apellido es Gomez y tengo 20 anhos\n"
     ]
    }
   ],
   "source": [
    "# Preguntar si podemos sumar textos (concatenación)\n",
    "\n",
    "#Para usar la concatenacion podemos usar el signo + para unir dos cadenas de texto\n",
    "\n",
    "nombre = 'Pedro'\n",
    "apellido = \"Quintana\"\n",
    "print(nombre)\n",
    "print(apellido)\n",
    "print(nombre + apellido) #concatenacion\n",
    "\n",
    "# Textos + Variables(str)\n",
    "\n",
    "print(nombre + \" \" + apellido)\n",
    "print(\"hola, mi nombre es \" + nombre + \" \" + apellido)\n",
    "\n",
    "# agregar el print con la f\n",
    "print(f\"hola, mi nombre es {nombre} {apellido}\")\n",
    "\n",
    "# Esto es lo mismo que lo anterior pero con el metodo format\n",
    "# Para usar la concatenacion podemos usar el signo + para unir dos cadenas de texto\n",
    "# Lo que hacemos con la concatenacion es fusionar dos string en un unico objeto string\n",
    "#Usando las cadenas F para concatenar strings en Python metodo lo que hacemos es darle formato\n",
    "#analizar si mostramos edad\n",
    "\n",
    "nombre = \"Pedro\" #esto es un texto\n",
    "apellido = \"Gomez\" #esto es un texto\n",
    "edad = 20 #esto es un numero\n",
    "print(nombre)\n",
    "print(apellido)\n",
    "print(\"Hola mi nombre es\"+ \" \" + nombre + \" \" + \"y mi apellido es\" + \" \" + apellido + \" \" + \"y tengo \"+ str(edad) + \" anhos\")\n",
    "print(f\"Hola me llamo {nombre} y mi apellido es {apellido}\")\n",
    "print(f\"Hola me llamo {nombre} y mi apellido es {apellido} y tengo {20} anhos\")\n"
   ]
  },
  {
   "cell_type": "markdown",
   "metadata": {},
   "source": [
    "# Challenge (15 minutos)\n",
    "\n",
    "Asignar el nombre y el apellido de tu compañero/a a las variables nombre y apellido. Luego, imprimir una frase, utilizando las variables.\n",
    "EJEMPLO: \"Hola. Me llamo Gustavo Gomez. Mucho gusto.\""
   ]
  },
  {
   "cell_type": "code",
   "execution_count": 31,
   "metadata": {},
   "outputs": [
    {
     "name": "stdout",
     "output_type": "stream",
     "text": [
      "Hola. Me llamo Eduardo Quinonez. MUcho gusto\n"
     ]
    }
   ],
   "source": [
    "nombre = \"Eduardo\"\n",
    "apellido = \"Quinonez\"\n",
    "\n",
    "print(f\"Hola. Me llamo {nombre} {apellido}. MUcho gusto\")"
   ]
  },
  {
   "cell_type": "markdown",
   "metadata": {},
   "source": [
    "# Fin del Día (10 minutos)\n",
    "Pequeño repaso de todo lo visto en el día, posteriormente pasar a escuchar el feedback de los participantes."
   ]
  }
 ],
 "metadata": {
  "kernelspec": {
   "display_name": "Python 3",
   "language": "python",
   "name": "python3"
  },
  "language_info": {
   "codemirror_mode": {
    "name": "ipython",
    "version": 3
   },
   "file_extension": ".py",
   "mimetype": "text/x-python",
   "name": "python",
   "nbconvert_exporter": "python",
   "pygments_lexer": "ipython3",
   "version": "3.10.12"
  },
  "orig_nbformat": 4
 },
 "nbformat": 4,
 "nbformat_minor": 2
}
