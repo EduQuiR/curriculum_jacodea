{
 "cells": [
  {
   "cell_type": "markdown",
   "metadata": {},
   "source": [
    "# Repaso (15 minutos)\n",
    "• Breve repaso del día anterior."
   ]
  },
  {
   "cell_type": "markdown",
   "metadata": {},
   "source": [
    "# Condicionales y Bucles (120 minutos)"
   ]
  },
  {
   "cell_type": "markdown",
   "metadata": {},
   "source": [
    "### Introducción a los operadores lógicos (10 minutos)\n",
    "### Operadores de relación o comparación y su interpretación:\n",
    "\n",
    "- menor que... < \n",
    "- menor o igual que... <= \n",
    "- mayor que... > \n",
    "- mayor o igual que... >= \n",
    "- == igual... == \n",
    "- diferente... != \n",
    "\n",
    "OBSERVACIÓN\n",
    "Al utilizar un operador de relación o comparación el resultado siempre será un valor booleano (True o False)."
   ]
  },
  {
   "cell_type": "code",
   "execution_count": 1,
   "metadata": {},
   "outputs": [
    {
     "name": "stdout",
     "output_type": "stream",
     "text": [
      "True\n",
      "False\n"
     ]
    }
   ],
   "source": [
    "# Vemos que resultado nos arroja utilizar un operador de relación \n",
    "print(7 > 5) # Nos devuelve True porque siete es mayor que cinco\n",
    "print(5 == 7) # Nos devuelve False porque cinco no es igual a 7"
   ]
  },
  {
   "cell_type": "markdown",
   "metadata": {},
   "source": [
    "# Condicionales (20 minutos)"
   ]
  },
  {
   "cell_type": "markdown",
   "metadata": {},
   "source": [
    "Ya conocemos el flujo de python, línea por línea. Condicionar permite dividir el flujo de un programa en diferentes caminos.\n",
    "\n",
    "Las condicionales nos permiten validar una condición en específico para así permitir o denegar que python ejecute una instrucción o pase a la siguiente.\n",
    "\n",
    "Palabras en python, que nos ayudan a hacer esas verificaciones y son las siguientes:\n",
    "Sentencia if (si): El if se ejecuta siempre que la expresión que comprueba devuelva True\n",
    "Sentencia elif (sino si): Se encadena a un if u otro elif para comprobar múltiples condiciones, siempre que las anteriores no se ejecuten\n",
    "Sentencia else (sino): Se encadena a un if para comprobar el caso contrario (en el que no se cumple la condición)"
   ]
  },
  {
   "cell_type": "code",
   "execution_count": 2,
   "metadata": {},
   "outputs": [
    {
     "name": "stdout",
     "output_type": "stream",
     "text": [
      "Es menor de edad\n"
     ]
    }
   ],
   "source": [
    "# Mayoria de edad en Paraguay\n",
    "edad = 15\n",
    "\n",
    "if edad < 18:\n",
    "    print(\"Es menor de edad\")\n",
    "else:\n",
    "    print(\"Es mayor de edad\")"
   ]
  },
  {
   "cell_type": "markdown",
   "metadata": {},
   "source": [
    "# Dos condicionales a la vez: operadores lógicos.\n",
    "\n",
    "- and: Verdadero sólo si los dos elementos son verdaderos\n",
    "- or: Verdadero si cualquiera de los elementos es verdadero"
   ]
  },
  {
   "cell_type": "code",
   "execution_count": 3,
   "metadata": {},
   "outputs": [
    {
     "name": "stdout",
     "output_type": "stream",
     "text": [
      "jubilado\n"
     ]
    }
   ],
   "source": [
    "#Corroborar si una persona es activo laboralmente considerando su edad y si trabaja o no. \n",
    "\n",
    "edad_laboral = 70 #el programa va a corroborar el estado del trabajo en relación a la edad \n",
    "trabaja = False #estado\n",
    "\n",
    "if edad_laboral < 18:\n",
    "    print(\" Es menor de edad, no puede trabajar\")\n",
    "elif edad_laboral < 65 and trabaja == True:\n",
    "    print(\"Activo Laboralmente\")\n",
    "elif edad_laboral < 65 and trabaja == False:\n",
    "    print(\" planillero \")\n",
    "else:\n",
    "    print(\"jubilado\")"
   ]
  },
  {
   "cell_type": "markdown",
   "metadata": {},
   "source": [
    "# Challenge (20 minutos)\n",
    "\n",
    "Escribir un programa donde la  temperatura se almacene en una variable, imprima la temperatura escrita, y luego clasificar la temperatura ingresada en los siguientes niveles:\n",
    "- Entre -10 y 18 grados, que imprima \"Fresquete\".\n",
    "- Entre 19 y 30 grados, que imprima \"Calor'i\".\n",
    "- Entre 31 y 45 grados, que imprima \"Hakuuuuuu\".\n",
    "- Para todo lo demás, imprimir \"Ñamano mba'e!\""
   ]
  },
  {
   "cell_type": "code",
   "execution_count": 5,
   "metadata": {},
   "outputs": [
    {
     "name": "stdout",
     "output_type": "stream",
     "text": [
      "Temperatura actual 30 Grados - Calor'i\n"
     ]
    }
   ],
   "source": [
    "temperatura = 30\n",
    "\n",
    "if temperatura >= -10 and temperatura <= 18:\n",
    "    print(f\"Temperatura actual {temperatura} Grados - Fresquete\")\n",
    "elif temperatura >= 19 and temperatura <=30:\n",
    "    print(f\"Temperatura actual {temperatura} Grados - Calor'i\")\n",
    "elif temperatura >=31 and temperatura <=45:\n",
    "    print(f\"Temperatura actual {temperatura} Grados - CalorHakuuuu\")\n",
    "else:\n",
    "    print(f\"Temperatura actual {temperatura} Grados - Ñamano mba'e\")"
   ]
  },
  {
   "cell_type": "markdown",
   "metadata": {},
   "source": [
    "# Bucles Condicionales (15 minutos)\n",
    "\n",
    "Un bucle condicional (while) permite repetir la ejecución de un grupo de instrucciones mientras se cumpla una condición (es decir, mientras la condición tenga el valor True).\n",
    "Al momento que la condición deje de ser True el bucle va a parar."
   ]
  },
  {
   "cell_type": "code",
   "execution_count": 6,
   "metadata": {},
   "outputs": [
    {
     "name": "stdout",
     "output_type": "stream",
     "text": [
      "1\n",
      "2\n",
      "3\n",
      "Programa terminado\n"
     ]
    }
   ],
   "source": [
    "contador = 1\n",
    "\n",
    "while contador <= 3:\n",
    "\n",
    "    print(contador)\n",
    "    contador = contador + 1\n",
    "\n",
    "print(\"Programa terminado\")"
   ]
  },
  {
   "cell_type": "markdown",
   "metadata": {},
   "source": [
    "# Challenge (15 minutos)\n",
    "\n",
    "Escribir un programa que el usuario coloque un número en una variable, y que imprima la tabla  de multiplicar de dicho número.\n",
    "Ej: numero = 5\n",
    "\n",
    "- resultado =\n",
    "- 5 * 1 = 5\n",
    "- 5 * 2 = 10\n",
    ". . .\n",
    "- 5 * 10 = 50"
   ]
  },
  {
   "cell_type": "code",
   "execution_count": 10,
   "metadata": {},
   "outputs": [
    {
     "name": "stdout",
     "output_type": "stream",
     "text": [
      "0 * 2 = 0\n",
      "1 * 2 = 2\n",
      "2 * 2 = 4\n",
      "3 * 2 = 6\n",
      "4 * 2 = 8\n",
      "5 * 2 = 10\n",
      "6 * 2 = 12\n",
      "7 * 2 = 14\n",
      "8 * 2 = 16\n",
      "9 * 2 = 18\n",
      "10 * 2 = 20\n"
     ]
    }
   ],
   "source": [
    "contador = 0\n",
    "\n",
    "while contador != 11:\n",
    "    print(f\"{contador} * 2 = {contador * 2}\")\n",
    "    contador = contador + 1"
   ]
  },
  {
   "cell_type": "markdown",
   "metadata": {},
   "source": [
    "# Bucles Infinitos (15 minutos)\n",
    "\n",
    "Un bucle infinito sucede cuando la condición siempre es cierta y por lo tanto el bucle\n",
    "no termina de ejecutarse.\n",
    "\n",
    "\"Break\" es una palabra reservada que nos permite salir de un bucle."
   ]
  },
  {
   "cell_type": "code",
   "execution_count": 7,
   "metadata": {},
   "outputs": [
    {
     "name": "stdout",
     "output_type": "stream",
     "text": [
      "El numero 0 no es correcto\n",
      "El numero 1 no es correcto\n",
      "El numero 2 no es correcto\n",
      "El numero 3 no es correcto\n",
      "El numero 4 no es correcto\n",
      "El numero 5 no es correcto\n",
      "El numero 6 no es correcto\n",
      "El numero 7 es correcto\n"
     ]
    }
   ],
   "source": [
    "numero = 5\n",
    "\n",
    "contador = 0\n",
    "\n",
    "while contador != 10:\n",
    "    \n",
    "    if contador == 7:\n",
    "        print(f\"El numero {contador} es correcto\")\n",
    "        break\n",
    "    else:\n",
    "        print(f\"El numero {contador} no es correcto\")\n",
    "\n",
    "    contador += 1"
   ]
  },
  {
   "cell_type": "markdown",
   "metadata": {},
   "source": [
    "# Challenge (15 minutos)\n",
    "\n",
    "Escribe un programa que se ejecute mientras que el numero que es almacenado en una variable sea diferente al numero establecido como secreto.\n",
    "El programa debe contener:\n",
    "- Una variable que almacene un numero \n",
    "- El numero secreto (puede ser en una variable o colocar directamente en el programa)\n",
    "- Se debe ejecutar hasta que el numero sea el correcto"
   ]
  },
  {
   "cell_type": "code",
   "execution_count": 1,
   "metadata": {},
   "outputs": [
    {
     "name": "stdout",
     "output_type": "stream",
     "text": [
      "El numero 0 no es correcto\n",
      "El numero 1 no es correcto\n",
      "El numero 2 no es correcto\n",
      "El numero 3 no es correcto\n",
      "El numero 4 no es correcto\n",
      "El numero 5 no es correcto\n",
      "El numero 6 no es correcto\n",
      "El numero 7 es correcto\n"
     ]
    }
   ],
   "source": [
    "numero = 5\n",
    "\n",
    "contador = 0\n",
    "\n",
    "while contador != 10:\n",
    "    \n",
    "    if contador == 7:\n",
    "        print(f\"El numero {contador} es correcto\")\n",
    "        break\n",
    "    else:\n",
    "        print(f\"El numero {contador} no es correcto\")\n",
    "\n",
    "    contador += 1"
   ]
  },
  {
   "cell_type": "markdown",
   "metadata": {},
   "source": [
    "# Fin del Día (10 minutos)\n",
    "Pequeño repaso de todo lo visto en el día, posteriormente pasar a escuchar el feedback de los participantes."
   ]
  }
 ],
 "metadata": {
  "kernelspec": {
   "display_name": "Python 3",
   "language": "python",
   "name": "python3"
  },
  "language_info": {
   "codemirror_mode": {
    "name": "ipython",
    "version": 3
   },
   "file_extension": ".py",
   "mimetype": "text/x-python",
   "name": "python",
   "nbconvert_exporter": "python",
   "pygments_lexer": "ipython3",
   "version": "3.10.12"
  },
  "orig_nbformat": 4
 },
 "nbformat": 4,
 "nbformat_minor": 2
}
